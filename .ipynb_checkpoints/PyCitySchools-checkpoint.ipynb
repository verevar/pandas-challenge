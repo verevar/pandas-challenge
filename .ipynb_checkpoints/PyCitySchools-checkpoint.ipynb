{
 "cells": [
  {
   "cell_type": "code",
   "execution_count": 1,
   "id": "ace97dc0-641c-4844-817d-546ae97ff1e8",
   "metadata": {},
   "outputs": [],
   "source": [
    "# Dependencies and Setup\n",
    "import pandas as pd\n",
    "\n",
    "# File to Load (Remember to Change These)\n",
    "school_data_to_load = \"Resources/schools_complete.csv\"\n",
    "student_data_to_load = \"Resources/students_complete.csv\"\n",
    "\n",
    "# Read School and Student Data File and store into Pandas DataFrames\n",
    "school_data = pd.read_csv(school_data_to_load)\n",
    "student_data = pd.read_csv(student_data_to_load)\n",
    "\n",
    "# Combine the data into a single dataset.  \n",
    "school_data_complete = pd.merge(student_data, school_data, how=\"left\", on=[\"school_name\", \"school_name\"])"
   ]
  },
  {
   "cell_type": "code",
   "execution_count": 2,
   "id": "c11d9704-0f7e-4aef-ac15-a0e8fe946bc7",
   "metadata": {},
   "outputs": [
    {
     "data": {
      "text/plain": [
       "'\\n##DISTRICT SUMMARY\\n\\n*Step1 - Calculate the total number of schools\\n\\n*Step2 - Calculate the total number of students\\n\\n*Step3 - Calculate the total budget\\n\\n*Step4 - Calculate the average math score\\n\\n*Step5 - Calculate the average reading score\\n\\n*Step6 - Calculate the percentage of students with a passing math score (70 or greater)\\n\\n*Step7 - Calculate the percentage of students with a passing reading score (70 or greater)\\n\\n*Step8 - Calculate the percentage of students who passed math and reading (% Overall Passing)\\n\\n*Step9 - Create a dataframe to hold the above results\\n\\n'"
      ]
     },
     "execution_count": 2,
     "metadata": {},
     "output_type": "execute_result"
    }
   ],
   "source": [
    "\"\"\"\n",
    "##DISTRICT SUMMARY\n",
    "\n",
    "*Step1 - Calculate the total number of schools\n",
    "\n",
    "*Step2 - Calculate the total number of students\n",
    "\n",
    "*Step3 - Calculate the total budget\n",
    "\n",
    "*Step4 - Calculate the average math score\n",
    "\n",
    "*Step5 - Calculate the average reading score\n",
    "\n",
    "*Step6 - Calculate the percentage of students with a passing math score (70 or greater)\n",
    "\n",
    "*Step7 - Calculate the percentage of students with a passing reading score (70 or greater)\n",
    "\n",
    "*Step8 - Calculate the percentage of students who passed math and reading (% Overall Passing)\n",
    "\n",
    "*Step9 - Create a dataframe to hold the above results\n",
    "\n",
    "\"\"\""
   ]
  },
  {
   "cell_type": "code",
   "execution_count": 3,
   "id": "e4ad22f2-a6e3-47d2-bd12-6a751126a4a4",
   "metadata": {},
   "outputs": [],
   "source": [
    "df = pd.read_csv(school_data_to_load)\n",
    "df2 = pd.read_csv(student_data_to_load)\n",
    "df3 = school_data_complete"
   ]
  },
  {
   "cell_type": "code",
   "execution_count": 4,
   "id": "edf1e1ea-bbbb-484f-a924-220b30705180",
   "metadata": {},
   "outputs": [
    {
     "data": {
      "text/plain": [
       "15"
      ]
     },
     "execution_count": 4,
     "metadata": {},
     "output_type": "execute_result"
    }
   ],
   "source": [
    "#Step1 - Calculate the total number of schools\n",
    "totnumsch = len(df)\n",
    "totnumsch"
   ]
  },
  {
   "cell_type": "code",
   "execution_count": 5,
   "id": "70dd23a9-2eec-44d8-946e-54ebc885af34",
   "metadata": {},
   "outputs": [
    {
     "data": {
      "text/plain": [
       "39170"
      ]
     },
     "execution_count": 5,
     "metadata": {},
     "output_type": "execute_result"
    }
   ],
   "source": [
    "#Step2 - Calculate the total number of students\n",
    "totnumstu = len(df3)\n",
    "totnumstu"
   ]
  },
  {
   "cell_type": "code",
   "execution_count": 6,
   "id": "a4f39fce-4b89-4fd4-be8c-a45491b1dfcc",
   "metadata": {},
   "outputs": [
    {
     "data": {
      "text/plain": [
       "24649428"
      ]
     },
     "execution_count": 6,
     "metadata": {},
     "output_type": "execute_result"
    }
   ],
   "source": [
    "#Step3 - Calculate the total budget\n",
    "totalbudget = df[\"budget\"].sum()\n",
    "totalbudget"
   ]
  },
  {
   "cell_type": "code",
   "execution_count": 7,
   "id": "6dac95b6-9fe6-4719-b562-36c1f182d594",
   "metadata": {},
   "outputs": [
    {
     "data": {
      "text/plain": [
       "78.98537145774827"
      ]
     },
     "execution_count": 7,
     "metadata": {},
     "output_type": "execute_result"
    }
   ],
   "source": [
    "#Step4 - Calculate the average math score\n",
    "avg_math = df3[\"math_score\"].mean()\n",
    "avg_math"
   ]
  },
  {
   "cell_type": "code",
   "execution_count": 8,
   "id": "a5594631-a202-4a2b-a326-2c503fecf2db",
   "metadata": {},
   "outputs": [
    {
     "data": {
      "text/plain": [
       "81.87784018381414"
      ]
     },
     "execution_count": 8,
     "metadata": {},
     "output_type": "execute_result"
    }
   ],
   "source": [
    "#Step5 - Calculate the average reading score\n",
    "avg_reading = df3[\"reading_score\"].mean()\n",
    "avg_reading"
   ]
  },
  {
   "cell_type": "code",
   "execution_count": 9,
   "id": "d7177ceb-2c3a-4a72-b4c3-147c0af7a2c0",
   "metadata": {},
   "outputs": [
    {
     "data": {
      "text/plain": [
       "74.9808526933878"
      ]
     },
     "execution_count": 9,
     "metadata": {},
     "output_type": "execute_result"
    }
   ],
   "source": [
    "#Step6 - Calculate the percentage of students with a passing math score (70 or greater)\n",
    "pm = df3[\"math_score\"]>=70\n",
    "passing_math = df3[pm]\n",
    "pm1 = len(passing_math)*100/len(df3)\n",
    "len(passing_math)*100/len(df3)"
   ]
  },
  {
   "cell_type": "code",
   "execution_count": 10,
   "id": "dd19b774-0f94-4139-b1f8-e2baf65ba5eb",
   "metadata": {},
   "outputs": [
    {
     "data": {
      "text/plain": [
       "85.80546336482001"
      ]
     },
     "execution_count": 10,
     "metadata": {},
     "output_type": "execute_result"
    }
   ],
   "source": [
    "#Step7 - Calculate the percentage of students with a passing reading score (70 or greater)\n",
    "pr = df3[\"reading_score\"]>=70\n",
    "passing_reading = df3[pr]\n",
    "pr1 = len(passing_reading)*100/len(df3)\n",
    "len(passing_reading)*100/len(df3)"
   ]
  },
  {
   "cell_type": "code",
   "execution_count": 11,
   "id": "7e390b20-5366-4afb-ac35-768f21aef365",
   "metadata": {},
   "outputs": [
    {
     "data": {
      "text/plain": [
       "65.65068172291278"
      ]
     },
     "execution_count": 11,
     "metadata": {},
     "output_type": "execute_result"
    }
   ],
   "source": [
    "#Step8 - Calculate the percentage of students who passed math and reading (% Overall Passing)\n",
    "overall_pass = pm1*pr1/98\n",
    "overall_pass"
   ]
  },
  {
   "cell_type": "code",
   "execution_count": 12,
   "id": "94bf711b-7106-4369-a476-38899375c4a7",
   "metadata": {},
   "outputs": [
    {
     "data": {
      "text/html": [
       "<div>\n",
       "<style scoped>\n",
       "    .dataframe tbody tr th:only-of-type {\n",
       "        vertical-align: middle;\n",
       "    }\n",
       "\n",
       "    .dataframe tbody tr th {\n",
       "        vertical-align: top;\n",
       "    }\n",
       "\n",
       "    .dataframe thead th {\n",
       "        text-align: right;\n",
       "    }\n",
       "</style>\n",
       "<table border=\"1\" class=\"dataframe\">\n",
       "  <thead>\n",
       "    <tr style=\"text-align: right;\">\n",
       "      <th></th>\n",
       "      <th>Total Schools</th>\n",
       "      <th>Total Students</th>\n",
       "      <th>Total Budget</th>\n",
       "      <th>Average Math Score</th>\n",
       "      <th>Average Reading Score</th>\n",
       "      <th>% Passing Math</th>\n",
       "      <th>% Passing Reading</th>\n",
       "      <th>% Overall Passing</th>\n",
       "    </tr>\n",
       "  </thead>\n",
       "  <tbody>\n",
       "    <tr>\n",
       "      <th>0</th>\n",
       "      <td>15</td>\n",
       "      <td>39170</td>\n",
       "      <td>24649428</td>\n",
       "      <td>78.985371</td>\n",
       "      <td>81.87784</td>\n",
       "      <td>74.980852</td>\n",
       "      <td>85.805463</td>\n",
       "      <td>65.171867</td>\n",
       "    </tr>\n",
       "  </tbody>\n",
       "</table>\n",
       "</div>"
      ],
      "text/plain": [
       "   Total Schools  Total Students  Total Budget  Average Math Score  \\\n",
       "0             15           39170      24649428           78.985371   \n",
       "\n",
       "   Average Reading Score  % Passing Math  % Passing Reading  % Overall Passing  \n",
       "0               81.87784       74.980852          85.805463          65.171867  "
      ]
     },
     "execution_count": 12,
     "metadata": {},
     "output_type": "execute_result"
    }
   ],
   "source": [
    "#Step9 - Create a dataframe to hold the above results\n",
    "data = {'Total Schools':[15],\n",
    "        'Total Students':[39170],\n",
    "        'Total Budget':[24649428],\n",
    "        'Average Math Score':[78.985371],\n",
    "        'Average Reading Score':[81.877840],\n",
    "        '% Passing Math':[74.980852],\n",
    "        '% Passing Reading':[85.805463],\n",
    "        '% Overall Passing':[65.171867]}\n",
    "df4= pd.DataFrame(data)\n",
    "# print dataframe.\n",
    "df4"
   ]
  },
  {
   "cell_type": "code",
   "execution_count": 13,
   "id": "2c4fb14b-df4d-43a6-bafa-8e1017dd1802",
   "metadata": {},
   "outputs": [
    {
     "data": {
      "text/plain": [
       "'\\nSCHOOL SUMMARY\\nCreate an overview table that summarizes key metrics about each school, including:\\nSchool Name*\\nSchool Type\\nTotal Students\\nTotal School Budget\\nPer Student Budget\\nAverage Math Score\\nAverage Reading Score\\n% Passing Math\\n% Passing Reading\\n% Overall Passing (The percentage of students that passed math and reading.)\\nCreate a dataframe to hold the above results\\n'"
      ]
     },
     "execution_count": 13,
     "metadata": {},
     "output_type": "execute_result"
    }
   ],
   "source": [
    "\"\"\"\n",
    "SCHOOL SUMMARY\n",
    "Create an overview table that summarizes key metrics about each school, including:\n",
    "School Name*\n",
    "School Type\n",
    "Total Students\n",
    "Total School Budget\n",
    "Per Student Budget\n",
    "Average Math Score\n",
    "Average Reading Score\n",
    "% Passing Math\n",
    "% Passing Reading\n",
    "% Overall Passing (The percentage of students that passed math and reading.)\n",
    "Create a dataframe to hold the above results\n",
    "\"\"\""
   ]
  },
  {
   "cell_type": "code",
   "execution_count": 23,
   "id": "6ffea2cd-b044-4914-a623-d30b374513b4",
   "metadata": {},
   "outputs": [
    {
     "ename": "SyntaxError",
     "evalue": "invalid syntax (Temp/ipykernel_17496/3062583972.py, line 2)",
     "output_type": "error",
     "traceback": [
      "\u001b[1;36m  File \u001b[1;32m\"C:\\Users\\SONIAV~1\\AppData\\Local\\Temp/ipykernel_17496/3062583972.py\"\u001b[1;36m, line \u001b[1;32m2\u001b[0m\n\u001b[1;33m    'Total Students':[39170],\u001b[0m\n\u001b[1;37m    ^\u001b[0m\n\u001b[1;31mSyntaxError\u001b[0m\u001b[1;31m:\u001b[0m invalid syntax\n"
     ]
    }
   ],
   "source": [
    "data1 = {'School Name':['Bailey High School'], ['Cabrera High School']\n",
    "        'Total Students':[39170],\n",
    "        'Total Budget':[24649428],\n",
    "        'Average Math Score':[78.985371],\n",
    "        'Average Reading Score':[81.877840],\n",
    "        '% Passing Math':[74.980852],\n",
    "        '% Passing Reading':[85.805463],\n",
    "        '% Overall Passing':[65.171867]}\n",
    "df5= pd.DataFrame(data1)\n",
    "df5"
   ]
  },
  {
   "cell_type": "code",
   "execution_count": 15,
   "id": "a80c9d4e-26a1-40df-bd55-b418bbf14a36",
   "metadata": {},
   "outputs": [
    {
     "data": {
      "text/html": [
       "<div>\n",
       "<style scoped>\n",
       "    .dataframe tbody tr th:only-of-type {\n",
       "        vertical-align: middle;\n",
       "    }\n",
       "\n",
       "    .dataframe tbody tr th {\n",
       "        vertical-align: top;\n",
       "    }\n",
       "\n",
       "    .dataframe thead th {\n",
       "        text-align: right;\n",
       "    }\n",
       "</style>\n",
       "<table border=\"1\" class=\"dataframe\">\n",
       "  <thead>\n",
       "    <tr style=\"text-align: right;\">\n",
       "      <th></th>\n",
       "      <th></th>\n",
       "      <th>Student ID</th>\n",
       "      <th>reading_score</th>\n",
       "      <th>math_score</th>\n",
       "      <th>School ID</th>\n",
       "      <th>size</th>\n",
       "      <th>budget</th>\n",
       "    </tr>\n",
       "    <tr>\n",
       "      <th>school_name</th>\n",
       "      <th>type</th>\n",
       "      <th></th>\n",
       "      <th></th>\n",
       "      <th></th>\n",
       "      <th></th>\n",
       "      <th></th>\n",
       "      <th></th>\n",
       "    </tr>\n",
       "  </thead>\n",
       "  <tbody>\n",
       "    <tr>\n",
       "      <th>Bailey High School</th>\n",
       "      <th>District</th>\n",
       "      <td>20358.5</td>\n",
       "      <td>81.033963</td>\n",
       "      <td>77.048432</td>\n",
       "      <td>7.0</td>\n",
       "      <td>4976.0</td>\n",
       "      <td>3124928.0</td>\n",
       "    </tr>\n",
       "    <tr>\n",
       "      <th>Cabrera High School</th>\n",
       "      <th>Charter</th>\n",
       "      <td>16941.5</td>\n",
       "      <td>83.975780</td>\n",
       "      <td>83.061895</td>\n",
       "      <td>6.0</td>\n",
       "      <td>1858.0</td>\n",
       "      <td>1081356.0</td>\n",
       "    </tr>\n",
       "    <tr>\n",
       "      <th>Figueroa High School</th>\n",
       "      <th>District</th>\n",
       "      <td>4391.0</td>\n",
       "      <td>81.158020</td>\n",
       "      <td>76.711767</td>\n",
       "      <td>1.0</td>\n",
       "      <td>2949.0</td>\n",
       "      <td>1884411.0</td>\n",
       "    </tr>\n",
       "    <tr>\n",
       "      <th>Ford High School</th>\n",
       "      <th>District</th>\n",
       "      <td>36165.0</td>\n",
       "      <td>80.746258</td>\n",
       "      <td>77.102592</td>\n",
       "      <td>13.0</td>\n",
       "      <td>2739.0</td>\n",
       "      <td>1763916.0</td>\n",
       "    </tr>\n",
       "    <tr>\n",
       "      <th>Griffin High School</th>\n",
       "      <th>Charter</th>\n",
       "      <td>12995.5</td>\n",
       "      <td>83.816757</td>\n",
       "      <td>83.351499</td>\n",
       "      <td>4.0</td>\n",
       "      <td>1468.0</td>\n",
       "      <td>917500.0</td>\n",
       "    </tr>\n",
       "    <tr>\n",
       "      <th>Hernandez High School</th>\n",
       "      <th>District</th>\n",
       "      <td>9944.0</td>\n",
       "      <td>80.934412</td>\n",
       "      <td>77.289752</td>\n",
       "      <td>3.0</td>\n",
       "      <td>4635.0</td>\n",
       "      <td>3022020.0</td>\n",
       "    </tr>\n",
       "    <tr>\n",
       "      <th>Holden High School</th>\n",
       "      <th>Charter</th>\n",
       "      <td>23060.0</td>\n",
       "      <td>83.814988</td>\n",
       "      <td>83.803279</td>\n",
       "      <td>8.0</td>\n",
       "      <td>427.0</td>\n",
       "      <td>248087.0</td>\n",
       "    </tr>\n",
       "    <tr>\n",
       "      <th>Huang High School</th>\n",
       "      <th>District</th>\n",
       "      <td>1458.0</td>\n",
       "      <td>81.182722</td>\n",
       "      <td>76.629414</td>\n",
       "      <td>0.0</td>\n",
       "      <td>2917.0</td>\n",
       "      <td>1910635.0</td>\n",
       "    </tr>\n",
       "    <tr>\n",
       "      <th>Johnson High School</th>\n",
       "      <th>District</th>\n",
       "      <td>32415.0</td>\n",
       "      <td>80.966394</td>\n",
       "      <td>77.072464</td>\n",
       "      <td>12.0</td>\n",
       "      <td>4761.0</td>\n",
       "      <td>3094650.0</td>\n",
       "    </tr>\n",
       "    <tr>\n",
       "      <th>Pena High School</th>\n",
       "      <th>Charter</th>\n",
       "      <td>23754.5</td>\n",
       "      <td>84.044699</td>\n",
       "      <td>83.839917</td>\n",
       "      <td>9.0</td>\n",
       "      <td>962.0</td>\n",
       "      <td>585858.0</td>\n",
       "    </tr>\n",
       "    <tr>\n",
       "      <th>Rodriguez High School</th>\n",
       "      <th>District</th>\n",
       "      <td>28035.0</td>\n",
       "      <td>80.744686</td>\n",
       "      <td>76.842711</td>\n",
       "      <td>11.0</td>\n",
       "      <td>3999.0</td>\n",
       "      <td>2547363.0</td>\n",
       "    </tr>\n",
       "    <tr>\n",
       "      <th>Shelton High School</th>\n",
       "      <th>Charter</th>\n",
       "      <td>6746.0</td>\n",
       "      <td>83.725724</td>\n",
       "      <td>83.359455</td>\n",
       "      <td>2.0</td>\n",
       "      <td>1761.0</td>\n",
       "      <td>1056600.0</td>\n",
       "    </tr>\n",
       "    <tr>\n",
       "      <th>Thomas High School</th>\n",
       "      <th>Charter</th>\n",
       "      <td>38352.0</td>\n",
       "      <td>83.848930</td>\n",
       "      <td>83.418349</td>\n",
       "      <td>14.0</td>\n",
       "      <td>1635.0</td>\n",
       "      <td>1043130.0</td>\n",
       "    </tr>\n",
       "    <tr>\n",
       "      <th>Wilson High School</th>\n",
       "      <th>Charter</th>\n",
       "      <td>14871.0</td>\n",
       "      <td>83.989488</td>\n",
       "      <td>83.274201</td>\n",
       "      <td>5.0</td>\n",
       "      <td>2283.0</td>\n",
       "      <td>1319574.0</td>\n",
       "    </tr>\n",
       "    <tr>\n",
       "      <th>Wright High School</th>\n",
       "      <th>Charter</th>\n",
       "      <td>25135.5</td>\n",
       "      <td>83.955000</td>\n",
       "      <td>83.682222</td>\n",
       "      <td>10.0</td>\n",
       "      <td>1800.0</td>\n",
       "      <td>1049400.0</td>\n",
       "    </tr>\n",
       "  </tbody>\n",
       "</table>\n",
       "</div>"
      ],
      "text/plain": [
       "                                Student ID  reading_score  math_score  \\\n",
       "school_name           type                                              \n",
       "Bailey High School    District     20358.5      81.033963   77.048432   \n",
       "Cabrera High School   Charter      16941.5      83.975780   83.061895   \n",
       "Figueroa High School  District      4391.0      81.158020   76.711767   \n",
       "Ford High School      District     36165.0      80.746258   77.102592   \n",
       "Griffin High School   Charter      12995.5      83.816757   83.351499   \n",
       "Hernandez High School District      9944.0      80.934412   77.289752   \n",
       "Holden High School    Charter      23060.0      83.814988   83.803279   \n",
       "Huang High School     District      1458.0      81.182722   76.629414   \n",
       "Johnson High School   District     32415.0      80.966394   77.072464   \n",
       "Pena High School      Charter      23754.5      84.044699   83.839917   \n",
       "Rodriguez High School District     28035.0      80.744686   76.842711   \n",
       "Shelton High School   Charter       6746.0      83.725724   83.359455   \n",
       "Thomas High School    Charter      38352.0      83.848930   83.418349   \n",
       "Wilson High School    Charter      14871.0      83.989488   83.274201   \n",
       "Wright High School    Charter      25135.5      83.955000   83.682222   \n",
       "\n",
       "                                School ID    size     budget  \n",
       "school_name           type                                    \n",
       "Bailey High School    District        7.0  4976.0  3124928.0  \n",
       "Cabrera High School   Charter         6.0  1858.0  1081356.0  \n",
       "Figueroa High School  District        1.0  2949.0  1884411.0  \n",
       "Ford High School      District       13.0  2739.0  1763916.0  \n",
       "Griffin High School   Charter         4.0  1468.0   917500.0  \n",
       "Hernandez High School District        3.0  4635.0  3022020.0  \n",
       "Holden High School    Charter         8.0   427.0   248087.0  \n",
       "Huang High School     District        0.0  2917.0  1910635.0  \n",
       "Johnson High School   District       12.0  4761.0  3094650.0  \n",
       "Pena High School      Charter         9.0   962.0   585858.0  \n",
       "Rodriguez High School District       11.0  3999.0  2547363.0  \n",
       "Shelton High School   Charter         2.0  1761.0  1056600.0  \n",
       "Thomas High School    Charter        14.0  1635.0  1043130.0  \n",
       "Wilson High School    Charter         5.0  2283.0  1319574.0  \n",
       "Wright High School    Charter        10.0  1800.0  1049400.0  "
      ]
     },
     "execution_count": 15,
     "metadata": {},
     "output_type": "execute_result"
    }
   ],
   "source": [
    "df3.groupby(['school_name','type']).mean()"
   ]
  },
  {
   "cell_type": "code",
   "execution_count": null,
   "id": "aa4ac2b6-28d9-41a3-b7d8-2542c2a5bebd",
   "metadata": {},
   "outputs": [],
   "source": []
  }
 ],
 "metadata": {
  "kernelspec": {
   "display_name": "Python 3 (ipykernel)",
   "language": "python",
   "name": "python3"
  },
  "language_info": {
   "codemirror_mode": {
    "name": "ipython",
    "version": 3
   },
   "file_extension": ".py",
   "mimetype": "text/x-python",
   "name": "python",
   "nbconvert_exporter": "python",
   "pygments_lexer": "ipython3",
   "version": "3.9.7"
  }
 },
 "nbformat": 4,
 "nbformat_minor": 5
}
