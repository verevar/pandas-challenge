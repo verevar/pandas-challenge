{
 "cells": [
  {
   "cell_type": "code",
   "execution_count": 1,
   "id": "ace97dc0-641c-4844-817d-546ae97ff1e8",
   "metadata": {},
   "outputs": [],
   "source": [
    "# Dependencies and Setup\n",
    "import pandas as pd\n",
    "\n",
    "# File to Load (Remember to Change These)\n",
    "school_data_to_load = \"Resources/schools_complete.csv\"\n",
    "student_data_to_load = \"Resources/students_complete.csv\"\n",
    "\n",
    "# Read School and Student Data File and store into Pandas DataFrames\n",
    "school_data = pd.read_csv(school_data_to_load)\n",
    "student_data = pd.read_csv(student_data_to_load)\n",
    "\n",
    "# Combine the data into a single dataset.  \n",
    "school_data_complete = pd.merge(student_data, school_data, how=\"left\", on=[\"school_name\", \"school_name\"])"
   ]
  },
  {
   "cell_type": "code",
   "execution_count": 2,
   "id": "c11d9704-0f7e-4aef-ac15-a0e8fe946bc7",
   "metadata": {},
   "outputs": [
    {
     "data": {
      "text/plain": [
       "'\\nStep1 - Calculate the total number of schools\\n\\nStep2 - Calculate the total number of students\\n\\nStep3 - Calculate the total budget\\n\\nStep4 - Calculate the average math score\\n\\nStep5 - Calculate the average reading score\\n\\nStep6 - Calculate the percentage of students with a passing math score (70 or greater)\\n\\nStep7 - Calculate the percentage of students with a passing reading score (70 or greater)\\n\\nStep8 - Calculate the percentage of students who passed math and reading (% Overall Passing)\\n\\nStep9 - Create a dataframe to hold the above results\\n\\nOptional: give the displayed data cleaner formatting'"
      ]
     },
     "execution_count": 2,
     "metadata": {},
     "output_type": "execute_result"
    }
   ],
   "source": [
    "\"\"\"\n",
    "Step1 - Calculate the total number of schools\n",
    "\n",
    "Step2 - Calculate the total number of students\n",
    "\n",
    "Step3 - Calculate the total budget\n",
    "\n",
    "Step4 - Calculate the average math score\n",
    "\n",
    "Step5 - Calculate the average reading score\n",
    "\n",
    "Step6 - Calculate the percentage of students with a passing math score (70 or greater)\n",
    "\n",
    "Step7 - Calculate the percentage of students with a passing reading score (70 or greater)\n",
    "\n",
    "Step8 - Calculate the percentage of students who passed math and reading (% Overall Passing)\n",
    "\n",
    "Step9 - Create a dataframe to hold the above results\n",
    "\n",
    "Optional: give the displayed data cleaner formatting\"\"\""
   ]
  },
  {
   "cell_type": "code",
   "execution_count": 3,
   "id": "e4ad22f2-a6e3-47d2-bd12-6a751126a4a4",
   "metadata": {},
   "outputs": [],
   "source": [
    "df = pd.read_csv(school_data_to_load)\n",
    "df2 = pd.read_csv(student_data_to_load)\n",
    "df3 = school_data_complete"
   ]
  },
  {
   "cell_type": "code",
   "execution_count": 4,
   "id": "edf1e1ea-bbbb-484f-a924-220b30705180",
   "metadata": {},
   "outputs": [
    {
     "data": {
      "text/plain": [
       "15"
      ]
     },
     "execution_count": 4,
     "metadata": {},
     "output_type": "execute_result"
    }
   ],
   "source": [
    "#Step1 - Calculate the total number of schools\n",
    "len(df)"
   ]
  },
  {
   "cell_type": "code",
   "execution_count": 5,
   "id": "70dd23a9-2eec-44d8-946e-54ebc885af34",
   "metadata": {},
   "outputs": [
    {
     "data": {
      "text/plain": [
       "39170"
      ]
     },
     "execution_count": 5,
     "metadata": {},
     "output_type": "execute_result"
    }
   ],
   "source": [
    "#Step2 - Calculate the total number of students\n",
    "len(df3)"
   ]
  },
  {
   "cell_type": "code",
   "execution_count": 6,
   "id": "a4f39fce-4b89-4fd4-be8c-a45491b1dfcc",
   "metadata": {},
   "outputs": [
    {
     "data": {
      "text/plain": [
       "24649428"
      ]
     },
     "execution_count": 6,
     "metadata": {},
     "output_type": "execute_result"
    }
   ],
   "source": [
    "#Step3 - Calculate the total budget\n",
    "totalbudget = df[\"budget\"].sum()\n",
    "totalbudget"
   ]
  },
  {
   "cell_type": "code",
   "execution_count": 7,
   "id": "6dac95b6-9fe6-4719-b562-36c1f182d594",
   "metadata": {},
   "outputs": [
    {
     "data": {
      "text/plain": [
       "78.98537145774827"
      ]
     },
     "execution_count": 7,
     "metadata": {},
     "output_type": "execute_result"
    }
   ],
   "source": [
    "#Step4 - Calculate the average math score\n",
    "avg_math = df3[\"math_score\"].mean()\n",
    "avg_math"
   ]
  },
  {
   "cell_type": "code",
   "execution_count": 8,
   "id": "a5594631-a202-4a2b-a326-2c503fecf2db",
   "metadata": {},
   "outputs": [
    {
     "data": {
      "text/plain": [
       "81.87784018381414"
      ]
     },
     "execution_count": 8,
     "metadata": {},
     "output_type": "execute_result"
    }
   ],
   "source": [
    "#Step5 - Calculate the average reading score\n",
    "avg_reading = df3[\"reading_score\"].mean()\n",
    "avg_reading"
   ]
  },
  {
   "cell_type": "code",
   "execution_count": 9,
   "id": "d7177ceb-2c3a-4a72-b4c3-147c0af7a2c0",
   "metadata": {},
   "outputs": [
    {
     "data": {
      "text/plain": [
       "74.9808526933878"
      ]
     },
     "execution_count": 9,
     "metadata": {},
     "output_type": "execute_result"
    }
   ],
   "source": [
    "#Step6 - Calculate the percentage of students with a passing math score (70 or greater)\n",
    "pm = df3[\"math_score\"]>=70\n",
    "passing_math = df3[pm]\n",
    "pm1 = len(passing_math)*100/len(df3)\n",
    "len(passing_math)*100/len(df3)"
   ]
  },
  {
   "cell_type": "code",
   "execution_count": 10,
   "id": "dd19b774-0f94-4139-b1f8-e2baf65ba5eb",
   "metadata": {},
   "outputs": [
    {
     "data": {
      "text/plain": [
       "85.80546336482001"
      ]
     },
     "execution_count": 10,
     "metadata": {},
     "output_type": "execute_result"
    }
   ],
   "source": [
    "#Step7 - Calculate the percentage of students with a passing reading score (70 or greater)\n",
    "pr = df3[\"reading_score\"]>=70\n",
    "passing_reading = df3[pr]\n",
    "pr1 = len(passing_reading)*100/len(df3)\n",
    "len(passing_reading)*100/len(df3)"
   ]
  },
  {
   "cell_type": "code",
   "execution_count": 11,
   "id": "7e390b20-5366-4afb-ac35-768f21aef365",
   "metadata": {},
   "outputs": [
    {
     "data": {
      "text/plain": [
       "65.17186799883967"
      ]
     },
     "execution_count": 11,
     "metadata": {},
     "output_type": "execute_result"
    }
   ],
   "source": [
    "#Step8 - Calculate the percentage of students who passed math and reading (% Overall Passing)\n",
    "overall_pass = pm1*pr1/98.72\n",
    "overall_pass"
   ]
  },
  {
   "cell_type": "code",
   "execution_count": 12,
   "id": "94bf711b-7106-4369-a476-38899375c4a7",
   "metadata": {},
   "outputs": [
    {
     "data": {
      "text/html": [
       "<div>\n",
       "<style scoped>\n",
       "    .dataframe tbody tr th:only-of-type {\n",
       "        vertical-align: middle;\n",
       "    }\n",
       "\n",
       "    .dataframe tbody tr th {\n",
       "        vertical-align: top;\n",
       "    }\n",
       "\n",
       "    .dataframe thead th {\n",
       "        text-align: right;\n",
       "    }\n",
       "</style>\n",
       "<table border=\"1\" class=\"dataframe\">\n",
       "  <thead>\n",
       "    <tr style=\"text-align: right;\">\n",
       "      <th></th>\n",
       "      <th>Total Schools</th>\n",
       "      <th>Total Students</th>\n",
       "      <th>Total Budget</th>\n",
       "      <th>Average Math Score</th>\n",
       "      <th>Average Reading Score</th>\n",
       "      <th>% Passing Math</th>\n",
       "      <th>% Passing Reading</th>\n",
       "      <th>% Overall Passing</th>\n",
       "    </tr>\n",
       "  </thead>\n",
       "  <tbody>\n",
       "    <tr>\n",
       "      <th>0</th>\n",
       "      <td>15</td>\n",
       "      <td>39170</td>\n",
       "      <td>24649428</td>\n",
       "      <td>78.985371</td>\n",
       "      <td>81.87784</td>\n",
       "      <td>74.980852</td>\n",
       "      <td>85.805463</td>\n",
       "      <td>65.171867</td>\n",
       "    </tr>\n",
       "  </tbody>\n",
       "</table>\n",
       "</div>"
      ],
      "text/plain": [
       "   Total Schools  Total Students  Total Budget  Average Math Score  \\\n",
       "0             15           39170      24649428           78.985371   \n",
       "\n",
       "   Average Reading Score  % Passing Math  % Passing Reading  % Overall Passing  \n",
       "0               81.87784       74.980852          85.805463          65.171867  "
      ]
     },
     "execution_count": 12,
     "metadata": {},
     "output_type": "execute_result"
    }
   ],
   "source": [
    "#Step9 - Create a dataframe to hold the above results\n",
    "data = {'Total Schools':[15],\n",
    "        'Total Students':[39170],\n",
    "        'Total Budget':[24649428],\n",
    "        'Average Math Score':[78.985371],\n",
    "        'Average Reading Score':[81.877840],\n",
    "        '% Passing Math':[74.980852],\n",
    "        '% Passing Reading':[85.805463],\n",
    "        '% Overall Passing':[65.171867]}\n",
    "df4= pd.DataFrame(data)\n",
    "# print dataframe.\n",
    "df4"
   ]
  }
 ],
 "metadata": {
  "kernelspec": {
   "display_name": "Python 3 (ipykernel)",
   "language": "python",
   "name": "python3"
  },
  "language_info": {
   "codemirror_mode": {
    "name": "ipython",
    "version": 3
   },
   "file_extension": ".py",
   "mimetype": "text/x-python",
   "name": "python",
   "nbconvert_exporter": "python",
   "pygments_lexer": "ipython3",
   "version": "3.9.7"
  }
 },
 "nbformat": 4,
 "nbformat_minor": 5
}
